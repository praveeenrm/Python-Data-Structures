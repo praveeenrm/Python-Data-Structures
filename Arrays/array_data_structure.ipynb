{
 "cells": [
  {
   "cell_type": "code",
   "execution_count": null,
   "metadata": {
    "ExecuteTime": {
     "end_time": "2020-08-01T16:23:29.456986Z",
     "start_time": "2020-08-01T16:23:29.450536Z"
    }
   },
   "outputs": [],
   "source": [
    "from array import array\n",
    "arr = array('i', [13, 7, 10, 11])\n",
    "print(arr)"
   ]
  },
  {
   "cell_type": "code",
   "execution_count": null,
   "metadata": {
    "ExecuteTime": {
     "end_time": "2020-08-01T16:23:54.744262Z",
     "start_time": "2020-08-01T16:23:54.729172Z"
    }
   },
   "outputs": [],
   "source": [
    "# Traverse\n",
    "for i in arr:\n",
    "    print(i)\n"
   ]
  },
  {
   "cell_type": "code",
   "execution_count": null,
   "metadata": {
    "ExecuteTime": {
     "end_time": "2020-08-01T16:24:28.060828Z",
     "start_time": "2020-08-01T16:24:28.046198Z"
    }
   },
   "outputs": [],
   "source": [
    "# Insert\n",
    "arr.insert(1, 6)\n",
    "print(arr)"
   ]
  },
  {
   "cell_type": "code",
   "execution_count": null,
   "metadata": {
    "ExecuteTime": {
     "end_time": "2020-08-01T16:25:00.501595Z",
     "start_time": "2020-08-01T16:25:00.494810Z"
    }
   },
   "outputs": [],
   "source": [
    "# Access\n",
    "print(arr[0])"
   ]
  },
  {
   "cell_type": "code",
   "execution_count": null,
   "metadata": {
    "ExecuteTime": {
     "end_time": "2020-08-01T16:25:27.387261Z",
     "start_time": "2020-08-01T16:25:27.380374Z"
    }
   },
   "outputs": [],
   "source": [
    "# Update\n",
    "arr[0] = 12\n",
    "print(arr)"
   ]
  },
  {
   "cell_type": "code",
   "execution_count": null,
   "metadata": {
    "ExecuteTime": {
     "end_time": "2020-08-01T16:25:54.274438Z",
     "start_time": "2020-08-01T16:25:54.267868Z"
    }
   },
   "outputs": [],
   "source": [
    "# Remove/Delete\n",
    "arr.remove(7)\n",
    "print(arr)"
   ]
  },
  {
   "cell_type": "code",
   "execution_count": null,
   "metadata": {},
   "outputs": [],
   "source": []
  }
 ],
 "metadata": {
  "kernelspec": {
   "display_name": "Python 3",
   "language": "python",
   "name": "python3"
  },
  "language_info": {
   "codemirror_mode": {
    "name": "ipython",
    "version": 3
   },
   "file_extension": ".py",
   "mimetype": "text/x-python",
   "name": "python",
   "nbconvert_exporter": "python",
   "pygments_lexer": "ipython3",
   "version": "3.7.6"
  },
  "varInspector": {
   "cols": {
    "lenName": 16,
    "lenType": 16,
    "lenVar": 40
   },
   "kernels_config": {
    "python": {
     "delete_cmd_postfix": "",
     "delete_cmd_prefix": "del ",
     "library": "var_list.py",
     "varRefreshCmd": "print(var_dic_list())"
    },
    "r": {
     "delete_cmd_postfix": ") ",
     "delete_cmd_prefix": "rm(",
     "library": "var_list.r",
     "varRefreshCmd": "cat(var_dic_list()) "
    }
   },
   "types_to_exclude": [
    "module",
    "function",
    "builtin_function_or_method",
    "instance",
    "_Feature"
   ],
   "window_display": false
  }
 },
 "nbformat": 4,
 "nbformat_minor": 4
}
